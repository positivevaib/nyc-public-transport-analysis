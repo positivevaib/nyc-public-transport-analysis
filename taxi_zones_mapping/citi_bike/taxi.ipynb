{
 "cells": [
  {
   "cell_type": "code",
   "execution_count": 1,
   "metadata": {},
   "outputs": [],
   "source": [
    "import fiona\n",
    "import shapely\n",
    "from shapely.geometry import asShape, shape, Point"
   ]
  },
  {
   "cell_type": "code",
   "execution_count": 33,
   "metadata": {},
   "outputs": [],
   "source": [
    "shapes = []\n",
    "location_is = []\n",
    "\n",
    "with fiona.open(\"geo_export_971c31ea-d4e3-4009-b2c3-270f511e4a31.shp\", \"r\") as fiona_collection:\n",
    "    for shapefile_record in fiona_collection:\n",
    "        location_i = shapefile_record['properties']['location_i']\n",
    "        if location_i in [87, 114, 90, 230, 239, 236]:\n",
    "            location_is.append(location_i)\n",
    "            shapes.append(asShape(shapefile_record['geometry']))\n",
    "\n",
    "def map_(shapes, long, lat):\n",
    "    for idx in range(len(shapes)):\n",
    "        point = Point(long, lat)\n",
    "        if shapes[idx].contains(point):\n",
    "            return location_i[idx]\n",
    "    return None"
   ]
  },
  {
   "cell_type": "code",
   "execution_count": 34,
   "metadata": {},
   "outputs": [
    {
     "data": {
      "image/svg+xml": [
       "<svg xmlns=\"http://www.w3.org/2000/svg\" xmlns:xlink=\"http://www.w3.org/1999/xlink\" width=\"100.0\" height=\"100.0\" viewBox=\"-73.96530158407992 40.77235111091989 0.01658410416000322 0.016177039160062634\" preserveAspectRatio=\"xMinYMin meet\"><g transform=\"matrix(1,0,0,-1,0,81.56087926099985)\"><path fill-rule=\"evenodd\" fill=\"#66cc99\" stroke=\"#555555\" stroke-width=\"0.00033168208320006443\" opacity=\"0.6\" d=\"M -73.95779380499984,40.77359989699994 L -73.95825534899998,40.772965336999896 L -73.95985681799993,40.7736427679999 L -73.96136792699977,40.77427876099991 L -73.9614758119999,40.77432401099989 L -73.96158453899987,40.77436878399993 L -73.96308760299976,40.775002841999886 L -73.96468735799992,40.77567708199995 L -73.96422820200003,40.776310308999946 L -73.9637612389999,40.77695096899987 L -73.96372602699994,40.77700571799989 L -73.96322991899993,40.7776770469999 L -73.9627671559999,40.778313040999876 L -73.96230361500002,40.77894704099987 L -73.96183836899999,40.77958419199989 L -73.961368727,40.78022974899989 L -73.96091849500006,40.78085062899991 L -73.96041638899996,40.78153163299988 L -73.959920943,40.78221294499987 L -73.95946905999989,40.78283332099994 L -73.95900363199986,40.783467289999855 L -73.9585581369999,40.78409759899993 L -73.95809563799989,40.78471746199995 L -73.95763599400006,40.78534345799993 L -73.95716853699999,40.785982893999865 L -73.95671863099989,40.786600792999934 L -73.95626130899994,40.78722287599987 L -73.9557773589999,40.78791392399995 L -73.95416383099995,40.78722686099993 L -73.95266136699996,40.78659501999991 L -73.95255145499999,40.78654858099986 L -73.95244615099996,40.786502485999925 L -73.95092733999991,40.78586544699993 L -73.94933170599992,40.78519312699994 L -73.9498239039999,40.784515570999886 L -73.95028254899988,40.783890469999946 L -73.95073913799986,40.783261709999884 L -73.95119927299987,40.7826333919999 L -73.95165920699998,40.78200767399993 L -73.9521220329999,40.78138670999995 L -73.95257421900006,40.780753033999865 L -73.95303367999988,40.780125454999926 L -73.95349212400005,40.77949662199995 L -73.9539837019998,40.77882210999991 L -73.95448224099997,40.77813866499987 L -73.9549452009999,40.77750394699991 L -73.9554072979999,40.776868479999926 L -73.9558693369999,40.77623622599986 L -73.95633492299991,40.77560078299992 L -73.95679749099989,40.77496631099994 L -73.95729409999986,40.7742835549999 L -73.95779380499984,40.77359989699994 z\" /></g></svg>"
      ],
      "text/plain": [
       "<shapely.geometry.polygon.PolygonAdapter at 0x114ae7490>"
      ]
     },
     "execution_count": 34,
     "metadata": {},
     "output_type": "execute_result"
    }
   ],
   "source": [
    "shapes[location_is.index(236)]"
   ]
  },
  {
   "cell_type": "code",
   "execution_count": 7,
   "metadata": {},
   "outputs": [
    {
     "data": {
      "text/plain": [
       "43.0"
      ]
     },
     "execution_count": 7,
     "metadata": {},
     "output_type": "execute_result"
    }
   ],
   "source": [
    "map_(shapes, -73.972354, 40.773792)"
   ]
  }
 ],
 "metadata": {
  "kernelspec": {
   "display_name": "Python 3",
   "language": "python",
   "name": "python3"
  },
  "language_info": {
   "codemirror_mode": {
    "name": "ipython",
    "version": 3
   },
   "file_extension": ".py",
   "mimetype": "text/x-python",
   "name": "python",
   "nbconvert_exporter": "python",
   "pygments_lexer": "ipython3",
   "version": "3.7.7"
  }
 },
 "nbformat": 4,
 "nbformat_minor": 4
}
